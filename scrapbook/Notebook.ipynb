{
 "cells": [
  {
   "cell_type": "code",
   "execution_count": 1,
   "metadata": {
    "tags": []
   },
   "outputs": [
    {
     "output_type": "stream",
     "name": "stdout",
     "text": "Number of Emojis: 128\n"
    }
   ],
   "source": [
    "emojis = open('../emoji-list.txt').read()\n",
    "print(f\"Number of Emojis: {len(emojis)}\")  # Base-128ish sorta thing."
   ]
  },
  {
   "cell_type": "code",
   "execution_count": 2,
   "metadata": {},
   "outputs": [],
   "source": [
    "# Conversion tables to change between emoji and numbers.\n",
    "conversion_tables = {\n",
    "    'i2e': {i: u for i, u in enumerate(emojis)},\n",
    "    'e2i': {u: i for i, u in enumerate(emojis)}\n",
    "}"
   ]
  },
  {
   "cell_type": "markdown",
   "metadata": {},
   "source": [
    "# Encoding\n",
    "1. Convert given text to its numerical representation.\n",
    "2. Convert numerical representation into binary.\n",
    "3. Split binary stream into 7 bits.\n",
    "4. Convert 7 bit numbers into ints.\n",
    "5. Use conversion table to convert to emoji."
   ]
  },
  {
   "cell_type": "code",
   "execution_count": 14,
   "metadata": {},
   "outputs": [],
   "source": [
    "text = \"Hello!\""
   ]
  },
  {
   "cell_type": "code",
   "execution_count": 16,
   "metadata": {
    "tags": []
   },
   "outputs": [
    {
     "output_type": "stream",
     "name": "stdout",
     "text": "[72, 101, 108, 108, 111, 33]\n"
    }
   ],
   "source": [
    "# Convert text to numbers.\n",
    "# use ord to convert to int and use chr to convert back to letter.\n",
    "numbers = [ord(i) for i in text]\n",
    "print(numbers)\n"
   ]
  },
  {
   "cell_type": "code",
   "execution_count": 19,
   "metadata": {
    "tags": []
   },
   "outputs": [
    {
     "output_type": "stream",
     "name": "stdout",
     "text": "010010000110010101101100011011000110111100100001\n"
    }
   ],
   "source": [
    "# \"{0:08b}\".format( -> number <- ) converts number to a byte.\n",
    "binary_stream = ''.join([\"{0:08b}\".format(i) for i in numbers])\n",
    "print(binary_stream)"
   ]
  },
  {
   "cell_type": "code",
   "execution_count": 27,
   "metadata": {
    "tags": []
   },
   "outputs": [
    {
     "output_type": "stream",
     "name": "stdout",
     "text": "0100100\n"
    },
    {
     "output_type": "execute_result",
     "data": {
      "text/plain": "36"
     },
     "metadata": {},
     "execution_count": 27
    }
   ],
   "source": [
    "def split(stream):\n",
    "    bins = []\n",
    "    current = \"\"\n",
    "    for i in stream:\n",
    "        if len(current) < 7:  # Change number to modify size. Current is 2^7 which is 128.\n",
    "            current += i\n",
    "        else:\n",
    "            bins.append(current)\n",
    "            current = i\n",
    "    if current != \"\":\n",
    "        while len(current) != 7: # Add zeroes.\n",
    "            current += \"0\"\n",
    "        bins.append(current) \n",
    "    return bins\n",
    "\n",
    "a = split(binary_stream)\n",
    "print(a[0])\n",
    "int(a[0], base=2)\n"
   ]
  },
  {
   "cell_type": "markdown",
   "metadata": {},
   "source": [
    "# Decoding\n",
    "1. Use conversion table to convert emoji to int.\n",
    "2. convert int to binary stream\n",
    "3. Split binary stream into bytes.\n",
    "4. convert bytes to numbers.\n",
    "5. convert numbers to text."
   ]
  },
  {
   "cell_type": "code",
   "execution_count": 25,
   "metadata": {},
   "outputs": [
    {
     "output_type": "execute_result",
     "data": {
      "text/plain": "True"
     },
     "metadata": {},
     "execution_count": 25
    }
   ],
   "source": [
    "def reverse_split(stream): # Convert 7 bit stream to bytes.\n",
    "    bins = []\n",
    "    current = \"\"\n",
    "    for i in stream:\n",
    "        if len(current) < 8:\n",
    "            current += i\n",
    "        else:\n",
    "            bins.append(current)\n",
    "            current = i\n",
    "    return bins"
   ]
  }
 ],
 "metadata": {
  "kernelspec": {
   "display_name": "Python 3",
   "language": "python",
   "name": "python3"
  },
  "language_info": {
   "codemirror_mode": {
    "name": "ipython",
    "version": 3
   },
   "file_extension": ".py",
   "mimetype": "text/x-python",
   "name": "python",
   "nbconvert_exporter": "python",
   "pygments_lexer": "ipython3",
   "version": "3.8.5-final"
  }
 },
 "nbformat": 4,
 "nbformat_minor": 4
}