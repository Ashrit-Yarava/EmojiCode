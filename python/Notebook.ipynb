{
 "cells": [
  {
   "cell_type": "code",
   "execution_count": 3,
   "metadata": {},
   "outputs": [
    {
     "name": "stdout",
     "output_type": "stream",
     "text": [
      "Number of Emojis: 128\n"
     ]
    }
   ],
   "source": [
    "emojis = open('../emoji-list.txt').read()\n",
    "print(f\"Number of Emojis: {len(emojis)}\")  # Base-128ish sorta thing."
   ]
  },
  {
   "cell_type": "code",
   "execution_count": 4,
   "metadata": {},
   "outputs": [],
   "source": [
    "# Conversion tables to change between emoji and numbers.\n",
    "conversion_tables = {\n",
    "    'i2e': {i: u for i, u in enumerate(emojis)},\n",
    "    'e2i': {u: i for i, u in enumerate(emojis)}\n",
    "}"
   ]
  },
  {
   "cell_type": "markdown",
   "metadata": {},
   "source": [
    "# Encoding\n",
    "1. Convert given text to its numerical representation.\n",
    "2. Convert numerical representation into binary.\n",
    "3. Split binary stream into 7 bits.\n",
    "4. Convert 7 bit numbers into ints.\n",
    "5. use conversion table to convert to emoji."
   ]
  },
  {
   "cell_type": "code",
   "execution_count": null,
   "metadata": {},
   "outputs": [],
   "source": [
    "text = \"Hello World\""
   ]
  },
  {
   "cell_type": "markdown",
   "metadata": {},
   "source": [
    "# Decoding\n",
    "1. Use conversion table to convert emoji to int.\n",
    "2. convert int to binary stream\n",
    "3. Split binary stream into bytes.\n",
    "4. convert bytes to numbers.\n",
    "5. convert numbers to text."
   ]
  },
  {
   "cell_type": "code",
   "execution_count": null,
   "metadata": {},
   "outputs": [],
   "source": []
  }
 ],
 "metadata": {
  "kernelspec": {
   "display_name": "Python 3",
   "language": "python",
   "name": "python3"
  },
  "language_info": {
   "codemirror_mode": {
    "name": "ipython",
    "version": 3
   },
   "file_extension": ".py",
   "mimetype": "text/x-python",
   "name": "python",
   "nbconvert_exporter": "python",
   "pygments_lexer": "ipython3",
   "version": "3.8.5"
  }
 },
 "nbformat": 4,
 "nbformat_minor": 4
}